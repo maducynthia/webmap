{
 "cells": [
  {
   "cell_type": "code",
   "execution_count": 9,
   "id": "64401673-f4db-4836-9948-bb3c06f0af01",
   "metadata": {},
   "outputs": [
    {
     "name": "stdout",
     "output_type": "stream",
     "text": [
      "Interactive map has been saved as 'interactive_map.html'.\n"
     ]
    }
   ],
   "source": [
    "import pandas as pd\n",
    "import plotly.express as px\n",
    "\n",
    "# Load the CSV data\n",
    "df = pd.read_csv('Project data2_out.csv')  # Replace 'data.csv' with your CSV file path\n",
    "\n",
    "# Create a Plotly express scatter map with text labels\n",
    "fig = px.scatter_mapbox(df, \n",
    "                       lat='latitude', \n",
    "                       lon='longitude',\n",
    "                       text='name',  # Display the 'name' directly on the map\n",
    "                       hover_name='name',  # Display the 'name' in the tooltip\n",
    "                       hover_data={'latitude': False, 'longitude': False, 'location': True, 'type': True},  # Additional info in the tooltip\n",
    "                       color='type',  # Use 'type' to color the markers differently\n",
    "                       title='Interactive Map',\n",
    "                       mapbox_style='carto-positron',  # You can change this style or use 'open-street-map'\n",
    "                       )\n",
    "\n",
    "# Update the layout to display text labels\n",
    "fig.update_layout(\n",
    "    autosize=True,\n",
    "    margin=dict(l=0, r=0, t=40, b=0),\n",
    "    showlegend=False\n",
    ")\n",
    "\n",
    "# Save the map to an HTML file\n",
    "fig.write_html('interactive_map.html')\n",
    "print(\"Interactive map has been saved as 'interactive_map.html'.\")\n"
   ]
  },
  {
   "cell_type": "code",
   "execution_count": null,
   "id": "cba069c4-31d9-4cb1-93af-65d888e8b634",
   "metadata": {},
   "outputs": [],
   "source": []
  }
 ],
 "metadata": {
  "kernelspec": {
   "display_name": "Python 3 (ipykernel)",
   "language": "python",
   "name": "python3"
  },
  "language_info": {
   "codemirror_mode": {
    "name": "ipython",
    "version": 3
   },
   "file_extension": ".py",
   "mimetype": "text/x-python",
   "name": "python",
   "nbconvert_exporter": "python",
   "pygments_lexer": "ipython3",
   "version": "3.11.7"
  }
 },
 "nbformat": 4,
 "nbformat_minor": 5
}
