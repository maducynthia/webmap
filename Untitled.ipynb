{
 "cells": [
  {
   "cell_type": "code",
   "execution_count": 16,
   "id": "009e7277-d61d-4005-aeb9-a39e842aa212",
   "metadata": {},
   "outputs": [
    {
     "name": "stdout",
     "output_type": "stream",
     "text": [
      "Columns in CSV: ['Latitude', 'Longitude', 'Name', 'Location', 'Type']\n",
      "ValueError: CSV file is missing the following required columns: latitude, longitude, name, location, type\n"
     ]
    }
   ],
   "source": [
    "import folium\n",
    "import pandas as pd\n",
    "\n",
    "# Function to create the map\n",
    "def create_interactive_map(csv_file, output_map_file='interactive_map.html'):\n",
    "    try:\n",
    "        # Load the CSV file into a DataFrame\n",
    "        data = pd.read_csv('Project data2_out.csv')\n",
    "\n",
    "        # Print the column names for debugging\n",
    "        print(f\"Columns in CSV: {data.columns.tolist()}\")\n",
    "\n",
    "        # Required columns\n",
    "        required_columns = ['latitude', 'longitude', 'name', 'location', 'type']\n",
    "\n",
    "        # Check if all required columns exist (case insensitive)\n",
    "        data.columns = data.columns.str.strip()  # Strip any leading/trailing spaces\n",
    "        missing_columns = [col for col in required_columns if col not in data.columns]\n",
    "\n",
    "        if missing_columns:\n",
    "            raise ValueError(f\"CSV file is missing the following required columns: {', '.join(missing_columns)}\")\n",
    "\n",
    "        # Create a base map centered around the average of all provided coordinates\n",
    "        start_coords = (data['latitude'].mean(), data['longitude'].mean())\n",
    "        interactive_map = folium.Map(location=start_coords, zoom_start=10)\n",
    "\n",
    "        # Plot each data point\n",
    "        for _, row in data.iterrows():\n",
    "            folium.Marker(\n",
    "                location=(row['latitude'], row['longitude']),\n",
    "                popup=f\"Name: {row['name']}<br>Location: {row['location']}<br>Type: {row['type']}\",\n",
    "                icon=folium.Icon(color='blue', icon='info-sign')\n",
    "            ).add_to(interactive_map)\n",
    "\n",
    "        # Save the map to an HTML file\n",
    "        interactive_map.save(output_map_file)\n",
    "        print(f\"Map has been created and saved as {output_map_file}\")\n",
    "\n",
    "    except FileNotFoundError:\n",
    "        print(f\"Error: The file {csv_file} was not found.\")\n",
    "    except pd.errors.EmptyDataError:\n",
    "        print(\"Error: The CSV file is empty.\")\n",
    "    except ValueError as ve:\n",
    "        print(f\"ValueError: {ve}\")\n",
    "    except Exception as e:\n",
    "        print(f\"An unexpected error occurred: {e}\")\n",
    "\n",
    "# Example usage\n",
    "if __name__ == \"__main__\":\n",
    "    csv_file_path = 'Project data2_out.csv'  # Ensure this is the correct path to your CSV file\n",
    "    create_interactive_map(csv_file_path)\n",
    "\n",
    "#display map\n",
    "#save map\n"
   ]
  },
  {
   "cell_type": "code",
   "execution_count": null,
   "id": "de218a79-3020-4586-bbc3-814f5f78066c",
   "metadata": {},
   "outputs": [],
   "source": []
  },
  {
   "cell_type": "code",
   "execution_count": null,
   "id": "3c9cbd89-de12-40fc-b0d8-5def99717482",
   "metadata": {},
   "outputs": [],
   "source": []
  }
 ],
 "metadata": {
  "kernelspec": {
   "display_name": "Python 3 (ipykernel)",
   "language": "python",
   "name": "python3"
  },
  "language_info": {
   "codemirror_mode": {
    "name": "ipython",
    "version": 3
   },
   "file_extension": ".py",
   "mimetype": "text/x-python",
   "name": "python",
   "nbconvert_exporter": "python",
   "pygments_lexer": "ipython3",
   "version": "3.11.7"
  }
 },
 "nbformat": 4,
 "nbformat_minor": 5
}
